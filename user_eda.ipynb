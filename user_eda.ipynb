{
 "cells": [
  {
   "cell_type": "code",
   "execution_count": 2,
   "metadata": {},
   "outputs": [],
   "source": [
    "import pickle\n",
    "with open('user_df.pkl', 'rb') as fh:\n",
    "    user_df = pickle.loads(fh.read())      "
   ]
  },
  {
   "cell_type": "code",
   "execution_count": 12,
   "metadata": {},
   "outputs": [],
   "source": [
    "tmp = [] \n",
    "for x in user_df.attributes.values:\n",
    "    tmp.extend(x)"
   ]
  },
  {
   "cell_type": "code",
   "execution_count": null,
   "metadata": {},
   "outputs": [],
   "source": []
  },
  {
   "cell_type": "code",
   "execution_count": 15,
   "metadata": {},
   "outputs": [],
   "source": [
    "import numpy as np\n",
    "val_cnt = np.unique(tmp, return_counts=True)"
   ]
  },
  {
   "cell_type": "code",
   "execution_count": 29,
   "metadata": {},
   "outputs": [
    {
     "data": {
      "text/plain": [
       "'01GZ297T7TRE8RQJ5YW4TC59QY'"
      ]
     },
     "execution_count": 29,
     "metadata": {},
     "output_type": "execute_result"
    }
   ],
   "source": [
    "val_cnt[0][13]"
   ]
  },
  {
   "cell_type": "code",
   "execution_count": 26,
   "metadata": {},
   "outputs": [
    {
     "data": {
      "text/plain": [
       "array([30, 31, 17, 20, 21, 23, 24, 28, 25, 22,  1,  0, 15, 19,  9, 32,  3,\n",
       "       18,  8, 10,  6, 29,  4,  7, 12, 26, 16, 11,  2, 13, 14,  5, 27],\n",
       "      dtype=int64)"
      ]
     },
     "execution_count": 26,
     "metadata": {},
     "output_type": "execute_result"
    }
   ],
   "source": [
    "np.argsort(val_cnt[1])"
   ]
  },
  {
   "cell_type": "code",
   "execution_count": 25,
   "metadata": {},
   "outputs": [
    {
     "data": {
      "text/plain": [
       "array([     1,     55,    765,   1263,   1507,   1651,   1821,   2215,\n",
       "         2258,   2453,   3691,   4198,   4380,   4915,   6146,   8558,\n",
       "         8676,  10696,  11733,  12836,  17582,  23081,  29121,  33145,\n",
       "        56542,  61401,  63772,  80113,  83044,  88282,  95843, 504854,\n",
       "       615604], dtype=int64)"
      ]
     },
     "execution_count": 25,
     "metadata": {},
     "output_type": "execute_result"
    }
   ],
   "source": [
    "val_cnt[1][np.argsort(val_cnt[1])]"
   ]
  },
  {
   "cell_type": "code",
   "execution_count": 3,
   "metadata": {},
   "outputs": [
    {
     "data": {
      "text/html": [
       "<div>\n",
       "<style scoped>\n",
       "    .dataframe tbody tr th:only-of-type {\n",
       "        vertical-align: middle;\n",
       "    }\n",
       "\n",
       "    .dataframe tbody tr th {\n",
       "        vertical-align: top;\n",
       "    }\n",
       "\n",
       "    .dataframe thead th {\n",
       "        text-align: right;\n",
       "    }\n",
       "</style>\n",
       "<table border=\"1\" class=\"dataframe\">\n",
       "  <thead>\n",
       "    <tr style=\"text-align: right;\">\n",
       "      <th></th>\n",
       "      <th>user_id</th>\n",
       "      <th>coin_balance</th>\n",
       "      <th>score</th>\n",
       "      <th>username</th>\n",
       "      <th>joined_at</th>\n",
       "      <th>attributes</th>\n",
       "      <th>roles</th>\n",
       "    </tr>\n",
       "  </thead>\n",
       "  <tbody>\n",
       "    <tr>\n",
       "      <th>481547</th>\n",
       "      <td>01GGDGFNGWF9YKTARD4M4G5DJY</td>\n",
       "      <td>824</td>\n",
       "      <td>100.0</td>\n",
       "      <td>Logicpoints</td>\n",
       "      <td>2022-10-27 20:19:05.084</td>\n",
       "      <td>[learn_v2, 01GZ2E4H81CMY023E8B179RGS5, 01GZ297...</td>\n",
       "      <td>[01GNS78F5R37VW1XNG7D1GGRVT, 01GGDQEP9CM2CRKNM...</td>\n",
       "    </tr>\n",
       "    <tr>\n",
       "      <th>676493</th>\n",
       "      <td>01GHGKMP5PD7ZXN27JV5MJF7S8</td>\n",
       "      <td>580</td>\n",
       "      <td>NaN</td>\n",
       "      <td>Ace</td>\n",
       "      <td>2022-11-10 11:17:46.040</td>\n",
       "      <td>[01GZ297T7TRE8RQJ5YW4TC59QY, 01J1B00H8P5JYCSBD...</td>\n",
       "      <td>[01GGDQEP9CM2CRKNMDM6267G53]</td>\n",
       "    </tr>\n",
       "  </tbody>\n",
       "</table>\n",
       "</div>"
      ],
      "text/plain": [
       "                           user_id  coin_balance  score     username  \\\n",
       "481547  01GGDGFNGWF9YKTARD4M4G5DJY           824  100.0  Logicpoints   \n",
       "676493  01GHGKMP5PD7ZXN27JV5MJF7S8           580    NaN          Ace   \n",
       "\n",
       "                     joined_at  \\\n",
       "481547 2022-10-27 20:19:05.084   \n",
       "676493 2022-11-10 11:17:46.040   \n",
       "\n",
       "                                               attributes  \\\n",
       "481547  [learn_v2, 01GZ2E4H81CMY023E8B179RGS5, 01GZ297...   \n",
       "676493  [01GZ297T7TRE8RQJ5YW4TC59QY, 01J1B00H8P5JYCSBD...   \n",
       "\n",
       "                                                    roles  \n",
       "481547  [01GNS78F5R37VW1XNG7D1GGRVT, 01GGDQEP9CM2CRKNM...  \n",
       "676493                       [01GGDQEP9CM2CRKNMDM6267G53]  "
      ]
     },
     "execution_count": 3,
     "metadata": {},
     "output_type": "execute_result"
    }
   ],
   "source": [
    "basic_roles = [\"01GGDQNB960W2QSA711WRD1HMJ\"]\n",
    "\n",
    "gm_roles = [ '01GGDQEP9CM2CRKNMDM6267G53']\n",
    "\n",
    "def filter_roles(roles, _list):\n",
    "\n",
    "    for x in roles:\n",
    "        if x in _list:\n",
    "            return False\n",
    "    return True\n",
    "\n",
    "def include_roles(roles, _list):\n",
    "\n",
    "    for x in _list:\n",
    "        if x not in roles:\n",
    "            return False\n",
    "    return True\n",
    "\n",
    "\n",
    "\n",
    "\n",
    "# tmp = user_df[~user_df.roles.apply(lambda x: filter_roles(x, basic_roles))].sort_values(by=['joined_at'], ascending=True)\n",
    "# tmp.shape\n",
    "\n",
    "tmp = user_df[user_df.roles.apply(lambda x: include_roles(x, gm_roles))].sort_values(by=['joined_at'], ascending=True)\n",
    "tmp\n",
    "\n",
    "\n",
    "# (2, 7)\n",
    "tmp"
   ]
  },
  {
   "cell_type": "code",
   "execution_count": 32,
   "metadata": {},
   "outputs": [
    {
     "data": {
      "text/html": [
       "<div>\n",
       "<style scoped>\n",
       "    .dataframe tbody tr th:only-of-type {\n",
       "        vertical-align: middle;\n",
       "    }\n",
       "\n",
       "    .dataframe tbody tr th {\n",
       "        vertical-align: top;\n",
       "    }\n",
       "\n",
       "    .dataframe thead th {\n",
       "        text-align: right;\n",
       "    }\n",
       "</style>\n",
       "<table border=\"1\" class=\"dataframe\">\n",
       "  <thead>\n",
       "    <tr style=\"text-align: right;\">\n",
       "      <th></th>\n",
       "      <th>user_id</th>\n",
       "      <th>coin_balance</th>\n",
       "      <th>score</th>\n",
       "      <th>username</th>\n",
       "      <th>joined_at</th>\n",
       "      <th>attributes</th>\n",
       "      <th>roles</th>\n",
       "      <th>dt_join</th>\n",
       "    </tr>\n",
       "  </thead>\n",
       "  <tbody>\n",
       "    <tr>\n",
       "      <th>580237</th>\n",
       "      <td>01GHVH1S0Y5359RWDM0SSKJXGX</td>\n",
       "      <td>11</td>\n",
       "      <td>NaN</td>\n",
       "      <td>Lewzis</td>\n",
       "      <td>2022-11-14 16:55:48.305</td>\n",
       "      <td>[learn_v2, 01GX6Z7JE5MENT2R0X8M7BKQS7]</td>\n",
       "      <td>[01GGDQNB960W2QSA711WRD1HMJ, 01GGDQD1T8HX1CRT5...</td>\n",
       "      <td>2022-11-14</td>\n",
       "    </tr>\n",
       "    <tr>\n",
       "      <th>710169</th>\n",
       "      <td>01GHVGY0S0ZZE8ZFTKWK32RNS7</td>\n",
       "      <td>0</td>\n",
       "      <td>NaN</td>\n",
       "      <td>DanKing | Freelancing Captain</td>\n",
       "      <td>2022-11-14 17:22:22.446</td>\n",
       "      <td>[01GX6Z7JE5MENT2R0X8M7BKQS7]</td>\n",
       "      <td>[01GGDQNB960W2QSA711WRD1HMJ, 01GGDQD1T8HX1CRT5...</td>\n",
       "      <td>2022-11-14</td>\n",
       "    </tr>\n",
       "    <tr>\n",
       "      <th>727810</th>\n",
       "      <td>01GHVVXMRQEH46FVAHH34EVFXF</td>\n",
       "      <td>0</td>\n",
       "      <td>NaN</td>\n",
       "      <td>RomanoAlexandru</td>\n",
       "      <td>2022-11-14 20:09:44.199</td>\n",
       "      <td>[01GX6Z7JE5MENT2R0X8M7BKQS7, learn_v2]</td>\n",
       "      <td>[01GGDQNB960W2QSA711WRD1HMJ\\n, 01GGDQNB960W2QS...</td>\n",
       "      <td>2022-11-14</td>\n",
       "    </tr>\n",
       "    <tr>\n",
       "      <th>662154</th>\n",
       "      <td>01GHVW18H6ZGZKR8EAXADPVMXZ</td>\n",
       "      <td>0</td>\n",
       "      <td>NaN</td>\n",
       "      <td>Hutzu</td>\n",
       "      <td>2022-11-14 20:13:30.703</td>\n",
       "      <td>[01GX6Z7JE5MENT2R0X8M7BKQS7, learn_v2]</td>\n",
       "      <td>[01GGDQNB960W2QSA711WRD1HMJ\\n, 01GGDQNB960W2QS...</td>\n",
       "      <td>2022-11-14</td>\n",
       "    </tr>\n",
       "    <tr>\n",
       "      <th>548433</th>\n",
       "      <td>01GHVVYR38SSPJJMZ0R31F2534</td>\n",
       "      <td>150</td>\n",
       "      <td>NaN</td>\n",
       "      <td>pablobr1ceno</td>\n",
       "      <td>2022-11-14 20:17:10.459</td>\n",
       "      <td>[learn_v2, 01GX6Z7JE5MENT2R0X8M7BKQS7]</td>\n",
       "      <td>[01GGDQNB960W2QSA711WRD1HMJ\\n, 01GGDQNB960W2QS...</td>\n",
       "      <td>2022-11-14</td>\n",
       "    </tr>\n",
       "    <tr>\n",
       "      <th>...</th>\n",
       "      <td>...</td>\n",
       "      <td>...</td>\n",
       "      <td>...</td>\n",
       "      <td>...</td>\n",
       "      <td>...</td>\n",
       "      <td>...</td>\n",
       "      <td>...</td>\n",
       "      <td>...</td>\n",
       "    </tr>\n",
       "    <tr>\n",
       "      <th>525330</th>\n",
       "      <td>01JC619BV5WQC38HT44Q32Q98C</td>\n",
       "      <td>0</td>\n",
       "      <td>NaN</td>\n",
       "      <td>Ghost Banks</td>\n",
       "      <td>2024-11-08 14:02:47.132</td>\n",
       "      <td>[learn_v2, 01GX6Z7JE5MENT2R0X8M7BKQS7]</td>\n",
       "      <td>[01GGDQNB960W2QSA711WRD1HMJ]</td>\n",
       "      <td>2024-11-08</td>\n",
       "    </tr>\n",
       "    <tr>\n",
       "      <th>701526</th>\n",
       "      <td>01JC619BV5WQC38HT44Q32Q98C</td>\n",
       "      <td>0</td>\n",
       "      <td>NaN</td>\n",
       "      <td>Ghost Banks</td>\n",
       "      <td>2024-11-08 14:02:47.132</td>\n",
       "      <td>[learn_v2, 01GX6Z7JE5MENT2R0X8M7BKQS7]</td>\n",
       "      <td>[01GGDQNB960W2QSA711WRD1HMJ]</td>\n",
       "      <td>2024-11-08</td>\n",
       "    </tr>\n",
       "    <tr>\n",
       "      <th>104788</th>\n",
       "      <td>01JC81JGV8FJXV0RGQ0990B8BM</td>\n",
       "      <td>0</td>\n",
       "      <td>NaN</td>\n",
       "      <td>Dram1324</td>\n",
       "      <td>2024-11-09 08:45:37.960</td>\n",
       "      <td>[learn_v2, 01GX6Z7JE5MENT2R0X8M7BKQS7]</td>\n",
       "      <td>[01GGDQNB960W2QSA711WRD1HMJ]</td>\n",
       "      <td>2024-11-09</td>\n",
       "    </tr>\n",
       "    <tr>\n",
       "      <th>141068</th>\n",
       "      <td>01JCD77M1DWJCX1Y7AXN0C87S1</td>\n",
       "      <td>0</td>\n",
       "      <td>NaN</td>\n",
       "      <td>Odeewan kenobi</td>\n",
       "      <td>2024-11-11 09:16:17.830</td>\n",
       "      <td>[learn_v2, 01GX6Z7JE5MENT2R0X8M7BKQS7]</td>\n",
       "      <td>[01GGDQNB960W2QSA711WRD1HMJ]</td>\n",
       "      <td>2024-11-11</td>\n",
       "    </tr>\n",
       "    <tr>\n",
       "      <th>439387</th>\n",
       "      <td>01JCVNCJ0Z5DQDD20GM7YTHJKZ</td>\n",
       "      <td>0</td>\n",
       "      <td>NaN</td>\n",
       "      <td>Ryan Mark</td>\n",
       "      <td>2024-11-16 23:38:03.851</td>\n",
       "      <td>[learn_v2, 01GX6Z7JE5MENT2R0X8M7BKQS7]</td>\n",
       "      <td>[01GGDQNB960W2QSA711WRD1HMJ, 01GNS78F5R37VW1XN...</td>\n",
       "      <td>2024-11-16</td>\n",
       "    </tr>\n",
       "  </tbody>\n",
       "</table>\n",
       "<p>33101 rows × 8 columns</p>\n",
       "</div>"
      ],
      "text/plain": [
       "                           user_id  coin_balance  score  \\\n",
       "580237  01GHVH1S0Y5359RWDM0SSKJXGX            11    NaN   \n",
       "710169  01GHVGY0S0ZZE8ZFTKWK32RNS7             0    NaN   \n",
       "727810  01GHVVXMRQEH46FVAHH34EVFXF             0    NaN   \n",
       "662154  01GHVW18H6ZGZKR8EAXADPVMXZ             0    NaN   \n",
       "548433  01GHVVYR38SSPJJMZ0R31F2534           150    NaN   \n",
       "...                            ...           ...    ...   \n",
       "525330  01JC619BV5WQC38HT44Q32Q98C             0    NaN   \n",
       "701526  01JC619BV5WQC38HT44Q32Q98C             0    NaN   \n",
       "104788  01JC81JGV8FJXV0RGQ0990B8BM             0    NaN   \n",
       "141068  01JCD77M1DWJCX1Y7AXN0C87S1             0    NaN   \n",
       "439387  01JCVNCJ0Z5DQDD20GM7YTHJKZ             0    NaN   \n",
       "\n",
       "                             username               joined_at  \\\n",
       "580237                         Lewzis 2022-11-14 16:55:48.305   \n",
       "710169  DanKing | Freelancing Captain 2022-11-14 17:22:22.446   \n",
       "727810                RomanoAlexandru 2022-11-14 20:09:44.199   \n",
       "662154                          Hutzu 2022-11-14 20:13:30.703   \n",
       "548433                   pablobr1ceno 2022-11-14 20:17:10.459   \n",
       "...                               ...                     ...   \n",
       "525330                    Ghost Banks 2024-11-08 14:02:47.132   \n",
       "701526                    Ghost Banks 2024-11-08 14:02:47.132   \n",
       "104788                       Dram1324 2024-11-09 08:45:37.960   \n",
       "141068                 Odeewan kenobi 2024-11-11 09:16:17.830   \n",
       "439387                      Ryan Mark 2024-11-16 23:38:03.851   \n",
       "\n",
       "                                    attributes  \\\n",
       "580237  [learn_v2, 01GX6Z7JE5MENT2R0X8M7BKQS7]   \n",
       "710169            [01GX6Z7JE5MENT2R0X8M7BKQS7]   \n",
       "727810  [01GX6Z7JE5MENT2R0X8M7BKQS7, learn_v2]   \n",
       "662154  [01GX6Z7JE5MENT2R0X8M7BKQS7, learn_v2]   \n",
       "548433  [learn_v2, 01GX6Z7JE5MENT2R0X8M7BKQS7]   \n",
       "...                                        ...   \n",
       "525330  [learn_v2, 01GX6Z7JE5MENT2R0X8M7BKQS7]   \n",
       "701526  [learn_v2, 01GX6Z7JE5MENT2R0X8M7BKQS7]   \n",
       "104788  [learn_v2, 01GX6Z7JE5MENT2R0X8M7BKQS7]   \n",
       "141068  [learn_v2, 01GX6Z7JE5MENT2R0X8M7BKQS7]   \n",
       "439387  [learn_v2, 01GX6Z7JE5MENT2R0X8M7BKQS7]   \n",
       "\n",
       "                                                    roles     dt_join  \n",
       "580237  [01GGDQNB960W2QSA711WRD1HMJ, 01GGDQD1T8HX1CRT5...  2022-11-14  \n",
       "710169  [01GGDQNB960W2QSA711WRD1HMJ, 01GGDQD1T8HX1CRT5...  2022-11-14  \n",
       "727810  [01GGDQNB960W2QSA711WRD1HMJ\\n, 01GGDQNB960W2QS...  2022-11-14  \n",
       "662154  [01GGDQNB960W2QSA711WRD1HMJ\\n, 01GGDQNB960W2QS...  2022-11-14  \n",
       "548433  [01GGDQNB960W2QSA711WRD1HMJ\\n, 01GGDQNB960W2QS...  2022-11-14  \n",
       "...                                                   ...         ...  \n",
       "525330                       [01GGDQNB960W2QSA711WRD1HMJ]  2024-11-08  \n",
       "701526                       [01GGDQNB960W2QSA711WRD1HMJ]  2024-11-08  \n",
       "104788                       [01GGDQNB960W2QSA711WRD1HMJ]  2024-11-09  \n",
       "141068                       [01GGDQNB960W2QSA711WRD1HMJ]  2024-11-11  \n",
       "439387  [01GGDQNB960W2QSA711WRD1HMJ, 01GNS78F5R37VW1XN...  2024-11-16  \n",
       "\n",
       "[33101 rows x 8 columns]"
      ]
     },
     "execution_count": 32,
     "metadata": {},
     "output_type": "execute_result"
    }
   ],
   "source": [
    "\n",
    "\n",
    "tmp = user_df[user_df.attributes.apply(lambda x: include_roles(x, [\"01GX6Z7JE5MENT2R0X8M7BKQS7\"]))].sort_values(by=['joined_at'], ascending=True)\n",
    "\n",
    "tmp\n",
    "\n",
    "# user_df[user_df.user_id==\"01GGDP69Y3DFQ1DJ9JDM184P10\"]"
   ]
  },
  {
   "cell_type": "code",
   "execution_count": 5,
   "metadata": {},
   "outputs": [
    {
     "name": "stdout",
     "output_type": "stream",
     "text": [
      "User: Logicpoints\n",
      "Joined At: 2022-10-27 20:19:05.084000\n",
      "Roles: ['01GNS78F5R37VW1XNG7D1GGRVT', '01GGDQEP9CM2CRKNMDM6267G53']\n",
      "Attributes: ['learn_v2', '01GZ2E4H81CMY023E8B179RGS5', '01GZ297T7TRE8RQJ5YW4TC59QX', '01J1B00H8P5JYCSBDAVJKKSMM7', 'diamond_king']\n",
      "\n",
      "User: Ace\n",
      "Joined At: 2022-11-10 11:17:46.040000\n",
      "Roles: ['01GGDQEP9CM2CRKNMDM6267G53']\n",
      "Attributes: ['01GZ297T7TRE8RQJ5YW4TC59QY', '01J1B00H8P5JYCSBDAVJKKSMM7', '01GZ2E4H81CMY023E8B179RGS5', '01GZ297T7TRE8RQJ5YW4TC59QX', 'learn_v2', 'pmgrad', 'diamond_king', '01H8CEGDCNBN10X6WYDVBXKVQZ', 'Hero (01HJP7ATA2EAS9DXM63PCKNY6V)', 'power_streak']\n",
      "\n"
     ]
    }
   ],
   "source": [
    "\n",
    "for indx in tmp.index[:20]:\n",
    "    item = tmp.loc[indx]\n",
    "    print('User:', item['username'])\n",
    "    print(\"Joined At:\", item['joined_at'])\n",
    "    # print('Coins:', item['coin_balance'], 'Score:', item['score'])\n",
    "    print('Roles:', item['roles'])\n",
    "    print('Attributes:', item['attributes'])\n",
    "    print()"
   ]
  },
  {
   "cell_type": "code",
   "execution_count": 6,
   "metadata": {},
   "outputs": [],
   "source": [
    "user_df['dt_join'] = user_df['joined_at'].dt.date "
   ]
  },
  {
   "cell_type": "code",
   "execution_count": 7,
   "metadata": {},
   "outputs": [],
   "source": [
    "user_join_dt_gb = user_df.drop_duplicates(subset=['username']).groupby([\"dt_join\"]).agg({'username': 'count'}).reset_index()"
   ]
  },
  {
   "cell_type": "code",
   "execution_count": 9,
   "metadata": {},
   "outputs": [],
   "source": [
    "import plotly\n",
    "import numpy as np\n",
    "\n",
    "fig =  plotly.graph_objects.Figure()\n",
    "\n",
    "fig.add_trace(\n",
    "    plotly.graph_objects.Bar(\n",
    "        x=user_join_dt_gb['dt_join'],\n",
    "        y=user_join_dt_gb['username'],\n",
    "        name='Joiners',\n",
    "    )\n",
    ")\n",
    "\n",
    "\n",
    "# Customize the layout\n",
    "fig.update_layout(\n",
    "    title='The Real World Formerly Known as Hustler\\'s University<br>  New Subcriber Counts',\n",
    "    xaxis_title='Date',\n",
    "    yaxis_title='Joiner Count',\n",
    "    template='plotly_white'\n",
    ")\n",
    "\n",
    "# Show the figure\n",
    "fig.write_image(\"new_subcriber_counts.png\")"
   ]
  },
  {
   "cell_type": "code",
   "execution_count": 30,
   "metadata": {},
   "outputs": [
    {
     "data": {
      "text/plain": [
       "(794100, 8)"
      ]
     },
     "execution_count": 30,
     "metadata": {},
     "output_type": "execute_result"
    }
   ],
   "source": [
    "user_df.shape"
   ]
  },
  {
   "cell_type": "code",
   "execution_count": null,
   "metadata": {},
   "outputs": [],
   "source": []
  }
 ],
 "metadata": {
  "kernelspec": {
   "display_name": "datar",
   "language": "python",
   "name": "python3"
  },
  "language_info": {
   "codemirror_mode": {
    "name": "ipython",
    "version": 3
   },
   "file_extension": ".py",
   "mimetype": "text/x-python",
   "name": "python",
   "nbconvert_exporter": "python",
   "pygments_lexer": "ipython3",
   "version": "3.10.13"
  }
 },
 "nbformat": 4,
 "nbformat_minor": 2
}
